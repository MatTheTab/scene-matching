{
 "cells": [
  {
   "cell_type": "markdown",
   "id": "49868e74",
   "metadata": {},
   "source": [
    "# Distance Losses - Comparison"
   ]
  },
  {
   "cell_type": "markdown",
   "id": "0329788b",
   "metadata": {},
   "source": [
    "## Imports"
   ]
  },
  {
   "cell_type": "code",
   "execution_count": 1,
   "id": "ca35d860",
   "metadata": {},
   "outputs": [
    {
     "name": "stderr",
     "output_type": "stream",
     "text": [
      "/home/mati/machine_perception/project/scene_matching_env/lib/python3.12/site-packages/pl_bolts/__init__.py:11: FutureWarning: In the future `np.object` will be defined as the corresponding NumPy scalar.\n",
      "  if not hasattr(numpy, tp_name):\n",
      "/home/mati/machine_perception/project/scene_matching_env/lib/python3.12/site-packages/pl_bolts/models/self_supervised/amdim/amdim_module.py:34: UnderReviewWarning: The feature generate_power_seq is currently marked under review. The compatibility with other Lightning projects is not guaranteed and API may change at any time. The API and functionality may change without warning in future releases. More details: https://lightning-bolts.readthedocs.io/en/latest/stability.html\n",
      "  \"lr_options\": generate_power_seq(LEARNING_RATE_CIFAR, 11),\n",
      "/home/mati/machine_perception/project/scene_matching_env/lib/python3.12/site-packages/pl_bolts/models/self_supervised/amdim/amdim_module.py:92: UnderReviewWarning: The feature FeatureMapContrastiveTask is currently marked under review. The compatibility with other Lightning projects is not guaranteed and API may change at any time. The API and functionality may change without warning in future releases. More details: https://lightning-bolts.readthedocs.io/en/latest/stability.html\n",
      "  contrastive_task: Union[FeatureMapContrastiveTask] = FeatureMapContrastiveTask(\"01, 02, 11\"),\n",
      "/home/mati/machine_perception/project/scene_matching_env/lib/python3.12/site-packages/pl_bolts/losses/self_supervised_learning.py:228: UnderReviewWarning: The feature AmdimNCELoss is currently marked under review. The compatibility with other Lightning projects is not guaranteed and API may change at any time. The API and functionality may change without warning in future releases. More details: https://lightning-bolts.readthedocs.io/en/latest/stability.html\n",
      "  self.nce_loss = AmdimNCELoss(tclip)\n"
     ]
    }
   ],
   "source": [
    "from utils.D_SimCLR import *"
   ]
  },
  {
   "cell_type": "code",
   "execution_count": 2,
   "id": "c35c64e1",
   "metadata": {},
   "outputs": [],
   "source": [
    "random.seed(42)\n",
    "np.random.seed(42)\n",
    "os.environ[\"PYTHONHASHSEED\"] = \"42\""
   ]
  },
  {
   "cell_type": "markdown",
   "id": "e274fb80",
   "metadata": {},
   "source": [
    "## Base InfoNCE Loss (SimCLR)"
   ]
  },
  {
   "cell_type": "markdown",
   "id": "67e77e9f",
   "metadata": {},
   "source": [
    "$$\n",
    "\\ell_{i,j} = -\\log \\frac{\n",
    "    \\exp\\left(\\text{sim}(\\mathbf{z}_i, \\mathbf{z}_j) / \\tau\\right)\n",
    "}{\n",
    "    \\sum\\limits_{k \\neq i} \\exp\\left(\\text{sim}(\\mathbf{z}_i, \\mathbf{z}_k) / \\tau\\right)\n",
    "}\n",
    "$$\n"
   ]
  },
  {
   "cell_type": "markdown",
   "id": "7754e751",
   "metadata": {},
   "source": [
    "## Inverse Distance Weighting (D-SimCLR)"
   ]
  },
  {
   "cell_type": "markdown",
   "id": "af754668",
   "metadata": {},
   "source": [
    "Important: only re-weights the positive examples"
   ]
  },
  {
   "cell_type": "markdown",
   "id": "4a0a18f7",
   "metadata": {},
   "source": [
    "Let $w_{i,j} = \\frac{1}{d_{i,j} + \\epsilon}$\n",
    "\n",
    "$$\n",
    "\\ell_{i,j}^{\\text{inv}} = -w_{i,j} \\cdot \\log \\frac{\n",
    "    \\exp\\left(\\text{sim}(\\mathbf{z}_i, \\mathbf{z}_j) / \\tau\\right)\n",
    "}{\n",
    "    \\sum\\limits_{k \\neq i} \\exp\\left(\\text{sim}(\\mathbf{z}_i, \\mathbf{z}_k) / \\tau\\right)\n",
    "}\n",
    "$$\n"
   ]
  },
  {
   "cell_type": "markdown",
   "id": "b8832a09",
   "metadata": {},
   "source": [
    "## Distance-Aware Softmax Denominator (D-SimCLR)"
   ]
  },
  {
   "cell_type": "markdown",
   "id": "b6c88d56",
   "metadata": {},
   "source": [
    "$$\n",
    "\\ell_{i,j}^{\\text{softdenom}} = -\\log \\frac{\n",
    "    \\exp\\left(\\text{sim}(\\mathbf{z}_i, \\mathbf{z}_j) / \\tau\\right)\n",
    "}{\n",
    "    \\sum\\limits_{k \\neq i} \\exp\\left(\\left[\\text{sim}(\\mathbf{z}_i, \\mathbf{z}_k) - \\lambda d_{i,k}\\right] / \\tau\\right)\n",
    "}\n",
    "$$\n"
   ]
  },
  {
   "cell_type": "markdown",
   "id": "ca8f652e",
   "metadata": {},
   "source": [
    "## Distance-Aware Temperature Scaling (D-SimCLR)"
   ]
  },
  {
   "cell_type": "markdown",
   "id": "19963530",
   "metadata": {},
   "source": [
    "Let $\\tau_{i,j} = \\tau + d_{i, j}$\n",
    "\n",
    "$$\n",
    "\\ell_{i,j}^{\\text{inv}} = -\\log \\frac{\n",
    "    \\exp\\left(\\text{sim}(\\mathbf{z}_i, \\mathbf{z}_j) / \\tau_{i, j}\\right)\n",
    "}{\n",
    "    \\sum\\limits_{k \\neq i} \\exp\\left(\\text{sim}(\\mathbf{z}_i, \\mathbf{z}_k) / \\tau_{i, k}\\right)\n",
    "}\n",
    "$$\n"
   ]
  },
  {
   "cell_type": "markdown",
   "id": "47c17c05",
   "metadata": {},
   "source": [
    "## Tests"
   ]
  },
  {
   "cell_type": "code",
   "execution_count": 3,
   "id": "9264a1c8",
   "metadata": {},
   "outputs": [
    {
     "name": "stdout",
     "output_type": "stream",
     "text": [
      "=== Setup Summary ===\n",
      "Projection 1 Random:\n",
      "tensor([[ 0.3024, -0.1965, -0.0225,  0.0477,  0.0751,  0.0743,  0.8901, -0.2524],\n",
      "        [ 0.4753, -0.0790, -0.1545,  0.4062, -0.1795, -0.7145,  0.1082,  0.1566]],\n",
      "       device='cuda:0')\n",
      "Projection 2 Random:\n",
      "tensor([[ 0.1844,  0.1396,  0.2600,  0.2230, -0.4860,  0.4117, -0.6174,  0.2057],\n",
      "        [ 0.5711, -0.1661,  0.2878,  0.0842, -0.4568,  0.3208,  0.2501,  0.4268]],\n",
      "       device='cuda:0')\n",
      "Projection 1 Close:\n",
      "tensor([[ 0.2814, -0.0761, -0.0718, -0.0060,  0.6319,  0.5267, -0.0701,  0.4777],\n",
      "        [ 0.1863,  0.4175, -0.3607,  0.3855,  0.0147, -0.1160, -0.0511,  0.7043]],\n",
      "       device='cuda:0')\n",
      "Projection 2 Close:\n",
      "tensor([[ 0.2676, -0.0403, -0.0604, -0.0332,  0.6326,  0.5423, -0.0728,  0.4715],\n",
      "        [ 0.0986, -0.3830, -0.4297, -0.3707,  0.4443,  0.3562,  0.3892, -0.2141]],\n",
      "       device='cuda:0')\n",
      "Projection 1 Far:\n",
      "tensor([[-0.3910,  0.0029,  0.0753,  0.0123, -0.7946, -0.4404, -0.1171,  0.0472],\n",
      "        [ 0.1674, -0.2130, -0.1206,  0.1821,  0.2401, -0.3068,  0.1596,  0.8376]],\n",
      "       device='cuda:0')\n",
      "Projection 2 Far:\n",
      "tensor([[-0.3919,  0.0105,  0.0936,  0.0139, -0.7905, -0.4424, -0.1221,  0.0439],\n",
      "        [ 0.3719,  0.1861, -0.0805,  0.0832, -0.3002,  0.4129, -0.6074, -0.4291]],\n",
      "       device='cuda:0')\n",
      "Distances:\n",
      "tensor([[0.0000, 0.0050, 0.1000, 0.1500],\n",
      "        [0.0050, 0.0000, 0.2000, 0.2500],\n",
      "        [0.1000, 0.2000, 0.0000, 1.0000],\n",
      "        [0.1500, 0.2500, 1.0000, 0.0000]], device='cuda:0')\n"
     ]
    }
   ],
   "source": [
    "batch_size = 2\n",
    "embedding_dim = 8\n",
    "device = \"cuda\" if torch.cuda.is_available() else \"cpu\"\n",
    "\n",
    "# Random example pair (neutral baseline)\n",
    "proj_1_random = F.normalize(torch.randn(batch_size, embedding_dim), dim=1)\n",
    "proj_2_random = F.normalize(torch.randn(batch_size, embedding_dim), dim=1)\n",
    "\n",
    "# Very close pair (high similarity, low distance — should give low loss)\n",
    "base_vec = F.normalize(torch.randn(embedding_dim), dim=0)\n",
    "proj_1_very_close = base_vec.unsqueeze(0) + 0.01 * torch.randn(1, embedding_dim)\n",
    "proj_2_very_close = base_vec.unsqueeze(0) + 0.01 * torch.randn(1, embedding_dim)\n",
    "proj_1_very_close = F.normalize(proj_1_very_close, dim=1)\n",
    "proj_2_very_close = F.normalize(proj_2_very_close, dim=1)\n",
    "\n",
    "# Very far pair (high similarity, high distance — should give high loss)\n",
    "base_vec_far = F.normalize(torch.randn(embedding_dim), dim=0)\n",
    "proj_1_very_far = base_vec_far.unsqueeze(0)\n",
    "proj_2_very_far = base_vec_far.unsqueeze(0) + 0.01 * torch.randn(1, embedding_dim)\n",
    "proj_1_very_far = F.normalize(proj_1_very_far, dim=1)\n",
    "proj_2_very_far = F.normalize(proj_2_very_far, dim=1)\n",
    "\n",
    "# Construct final tensors of shape [2, embedding_dim]\n",
    "proj_1_very_close = torch.cat([proj_1_very_close, torch.randn(1, embedding_dim)], dim=0)\n",
    "proj_2_very_close = torch.cat([proj_2_very_close, torch.randn(1, embedding_dim)], dim=0)\n",
    "\n",
    "proj_1_very_far = torch.cat([proj_1_very_far, torch.randn(1, embedding_dim)], dim=0)\n",
    "proj_2_very_far = torch.cat([proj_2_very_far, torch.randn(1, embedding_dim)], dim=0)\n",
    "\n",
    "proj_1_very_close = F.normalize(proj_1_very_close, dim=1)\n",
    "proj_2_very_close = F.normalize(proj_2_very_close, dim=1)\n",
    "proj_1_very_far = F.normalize(proj_1_very_far, dim=1)\n",
    "proj_2_very_far = F.normalize(proj_2_very_far, dim=1)\n",
    "\n",
    "# Distance matrix, manually scaled\n",
    "distances = torch.tensor([\n",
    "    [0.0, 0.1, 2.0, 3.0],\n",
    "    [0.1, 0.0, 4.0, 5.0],\n",
    "    [2.0, 4.0, 0.0, 20.0],\n",
    "    [3.0, 5.0, 20.0, 0.0]\n",
    "])\n",
    "distances = distances / torch.max(distances)\n",
    "\n",
    "\n",
    "# Send to device\n",
    "proj_1_random = proj_1_random.to(device)\n",
    "proj_2_random = proj_2_random.to(device)\n",
    "proj_1_very_far = proj_1_very_far.to(device)\n",
    "proj_2_very_far = proj_2_very_far.to(device)\n",
    "proj_1_very_close = proj_1_very_close.to(device)\n",
    "proj_2_very_close = proj_2_very_close.to(device)\n",
    "distances = distances.to(device)\n",
    "\n",
    "# Print summaries\n",
    "print(\"=== Setup Summary ===\")\n",
    "print(f\"Projection 1 Random:\\n{proj_1_random}\")\n",
    "print(f\"Projection 2 Random:\\n{proj_2_random}\")\n",
    "print(f\"Projection 1 Close:\\n{proj_1_very_close}\")\n",
    "print(f\"Projection 2 Close:\\n{proj_2_very_close}\")\n",
    "print(f\"Projection 1 Far:\\n{proj_1_very_far}\")\n",
    "print(f\"Projection 2 Far:\\n{proj_2_very_far}\")\n",
    "print(f\"Distances:\\n{distances}\")\n"
   ]
  },
  {
   "cell_type": "code",
   "execution_count": 4,
   "id": "a5a951c2",
   "metadata": {},
   "outputs": [
    {
     "name": "stdout",
     "output_type": "stream",
     "text": [
      "Results Random: 1.771040439605713, Results Close: 1.344935417175293, Results Far: 1.06294846534729\n"
     ]
    }
   ],
   "source": [
    "loss = ContrastiveLoss(batch_size, device)\n",
    "result_random = loss(proj_1_random, proj_2_random)\n",
    "result_close = loss(proj_1_very_close, proj_2_very_close)\n",
    "result_far = loss(proj_1_very_far, proj_2_very_far)\n",
    "print(f\"Results Random: {result_random}, Results Close: {result_close}, Results Far: {result_far}\")"
   ]
  },
  {
   "cell_type": "code",
   "execution_count": 5,
   "id": "c2ed6ff7",
   "metadata": {},
   "outputs": [
    {
     "name": "stdout",
     "output_type": "stream",
     "text": [
      "Results Random: 14.378768920898438, Results Close: 6.752707481384277, Results Far: 4.880659103393555\n"
     ]
    }
   ],
   "source": [
    "loss = InverseDistanceContrastiveLoss(batch_size, device)\n",
    "result_random = loss(proj_1_random, proj_2_random, distances)\n",
    "result_close = loss(proj_1_very_close, proj_2_very_close, distances)\n",
    "result_far = loss(proj_1_very_far, proj_2_very_far, distances)\n",
    "print(f\"Results Random: {result_random}, Results Close: {result_close}, Results Far: {result_far}\")"
   ]
  },
  {
   "cell_type": "code",
   "execution_count": 6,
   "id": "4b7f24c1",
   "metadata": {},
   "outputs": [
    {
     "name": "stdout",
     "output_type": "stream",
     "text": [
      "Results Random: 1.1697614192962646, Results Close: 0.9429987072944641, Results Far: 0.6880234479904175\n"
     ]
    }
   ],
   "source": [
    "loss = SoftDenominatorContrastiveLoss(batch_size, device)\n",
    "result_random = loss(proj_1_random, proj_2_random, distances)\n",
    "result_close = loss(proj_1_very_close, proj_2_very_close, distances)\n",
    "result_far = loss(proj_1_very_far, proj_2_very_far, distances)\n",
    "print(f\"Results Random: {result_random}, Results Close: {result_close}, Results Far: {result_far}\")"
   ]
  },
  {
   "cell_type": "code",
   "execution_count": 7,
   "id": "39bcedf4",
   "metadata": {},
   "outputs": [
    {
     "name": "stdout",
     "output_type": "stream",
     "text": [
      "Results Random: 1.5604825019836426, Results Close: 1.167198896408081, Results Far: 0.9504165649414062\n"
     ]
    }
   ],
   "source": [
    "loss = TempretureScalingContrastiveLoss(batch_size, device)\n",
    "result_random = loss(proj_1_random, proj_2_random, distances)\n",
    "result_close = loss(proj_1_very_close, proj_2_very_close, distances)\n",
    "result_far = loss(proj_1_very_far, proj_2_very_far, distances)\n",
    "print(f\"Results Random: {result_random}, Results Close: {result_close}, Results Far: {result_far}\")"
   ]
  }
 ],
 "metadata": {
  "kernelspec": {
   "display_name": "scene_matching_env",
   "language": "python",
   "name": "python3"
  },
  "language_info": {
   "codemirror_mode": {
    "name": "ipython",
    "version": 3
   },
   "file_extension": ".py",
   "mimetype": "text/x-python",
   "name": "python",
   "nbconvert_exporter": "python",
   "pygments_lexer": "ipython3",
   "version": "3.12.2"
  }
 },
 "nbformat": 4,
 "nbformat_minor": 5
}
