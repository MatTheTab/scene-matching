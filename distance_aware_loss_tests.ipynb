{
 "cells": [
  {
   "cell_type": "markdown",
   "id": "49868e74",
   "metadata": {},
   "source": [
    "# Distance Losses - Comparison"
   ]
  },
  {
   "cell_type": "markdown",
   "id": "e274fb80",
   "metadata": {},
   "source": [
    "## Base InfoNCE Loss (SimCLR)"
   ]
  },
  {
   "cell_type": "markdown",
   "id": "67e77e9f",
   "metadata": {},
   "source": [
    "$$\n",
    "\\ell_{i,j} = -\\log \\frac{\n",
    "    \\exp\\left(\\text{sim}(\\mathbf{z}_i, \\mathbf{z}_j) / \\tau\\right)\n",
    "}{\n",
    "    \\sum\\limits_{k \\neq i} \\exp\\left(\\text{sim}(\\mathbf{z}_i, \\mathbf{z}_k) / \\tau\\right)\n",
    "}\n",
    "$$\n"
   ]
  },
  {
   "cell_type": "markdown",
   "id": "7754e751",
   "metadata": {},
   "source": [
    "## Inverse Distance Weighting (D-SimCLR)"
   ]
  },
  {
   "cell_type": "markdown",
   "id": "af754668",
   "metadata": {},
   "source": [
    "Important: only re-weights the positive examples"
   ]
  },
  {
   "cell_type": "markdown",
   "id": "4a0a18f7",
   "metadata": {},
   "source": [
    "Let $w_{i,j} = \\frac{1}{d_{i,j} + \\epsilon}$\n",
    "\n",
    "$$\n",
    "\\ell_{i,j}^{\\text{inv}} = -w_{i,j} \\cdot \\log \\frac{\n",
    "    \\exp\\left(\\text{sim}(\\mathbf{z}_i, \\mathbf{z}_j) / \\tau\\right)\n",
    "}{\n",
    "    \\sum\\limits_{k \\neq i} \\exp\\left(\\text{sim}(\\mathbf{z}_i, \\mathbf{z}_k) / \\tau\\right)\n",
    "}\n",
    "$$\n"
   ]
  },
  {
   "cell_type": "markdown",
   "id": "b8832a09",
   "metadata": {},
   "source": [
    "## Distance-Aware Softmax Denominator (D-SimCLR)"
   ]
  },
  {
   "cell_type": "markdown",
   "id": "b6c88d56",
   "metadata": {},
   "source": [
    "$$\n",
    "\\ell_{i,j}^{\\text{softdenom}} = -\\log \\frac{\n",
    "    \\exp\\left(\\text{sim}(\\mathbf{z}_i, \\mathbf{z}_j) / \\tau\\right)\n",
    "}{\n",
    "    \\sum\\limits_{k \\neq i} \\exp\\left(\\left[\\text{sim}(\\mathbf{z}_i, \\mathbf{z}_k) - \\lambda d_{i,k}\\right] / \\tau\\right)\n",
    "}\n",
    "$$\n"
   ]
  },
  {
   "cell_type": "markdown",
   "id": "ca8f652e",
   "metadata": {},
   "source": [
    "## Distance-Aware Temperature Scaling (D-SimCLR)"
   ]
  },
  {
   "cell_type": "markdown",
   "id": "19963530",
   "metadata": {},
   "source": [
    "Let $\\tau_{i,j} = \\tau + d_{i, j}$\n",
    "\n",
    "$$\n",
    "\\ell_{i,j}^{\\text{inv}} = -\\log \\frac{\n",
    "    \\exp\\left(\\text{sim}(\\mathbf{z}_i, \\mathbf{z}_j) / \\tau_{i, j}\\right)\n",
    "}{\n",
    "    \\sum\\limits_{k \\neq i} \\exp\\left(\\text{sim}(\\mathbf{z}_i, \\mathbf{z}_k) / \\tau_{i, k}\\right)\n",
    "}\n",
    "$$\n"
   ]
  }
 ],
 "metadata": {
  "language_info": {
   "name": "python"
  }
 },
 "nbformat": 4,
 "nbformat_minor": 5
}
